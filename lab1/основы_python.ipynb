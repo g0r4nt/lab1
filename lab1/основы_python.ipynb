{
 "cells": [
  {
   "cell_type": "markdown",
   "metadata": {
    "id": "M-DGa20PaHnu"
   },
   "source": [
    "#Задача 1\n",
    "Написать функцию на вход которой подается строка, состоящая из латинских букв.\n",
    "Функция должна вернуть количество гласных букв (a, e, i, o, u) в этой строке. Написать тесты для кода"
   ]
  },
  {
   "cell_type": "code",
   "execution_count": 1,
   "metadata": {
    "id": "XvX8X_JJ6PCb"
   },
   "outputs": [
    {
     "ename": "TypeError",
     "evalue": "TestUppercase() missing 1 required positional argument: 'count'",
     "output_type": "error",
     "traceback": [
      "\u001b[1;31m---------------------------------------------------------------------------\u001b[0m",
      "\u001b[1;31mTypeError\u001b[0m                                 Traceback (most recent call last)",
      "Cell \u001b[1;32mIn[1], line 12\u001b[0m\n\u001b[0;32m      9\u001b[0m \u001b[38;5;28;01mdef\u001b[39;00m \u001b[38;5;21mTestUppercase\u001b[39m(count):\n\u001b[0;32m     10\u001b[0m     \u001b[38;5;28mprint\u001b[39m(CheckVowels(vowels_array))\n\u001b[1;32m---> 12\u001b[0m TestUppercase()\n",
      "\u001b[1;31mTypeError\u001b[0m: TestUppercase() missing 1 required positional argument: 'count'"
     ]
    }
   ],
   "source": [
    "vowels_array = ['a', 'e', 'i', 'o', 'u', 'y']\n",
    "def CheckVowels(s):\n",
    "    count = 0\n",
    "    for i in s:\n",
    "      if i in vowels_array:\n",
    "         count += 1\n",
    "    return count\n",
    "\n",
    "def TestUppercase(count):\n",
    "    print(CheckVowels(vowels_array))\n",
    "\n",
    "TestUppercase()"
   ]
  },
  {
   "cell_type": "markdown",
   "metadata": {
    "id": "t2ClV_Y0bbr6"
   },
   "source": [
    "# Задача 2\n",
    "Написать функцию на вход, которой подается строка. Функция должна вернуть true, если\n",
    "каждый символ в строке встречается только 1 раз, иначе должна вернуть false. Написать тесты для кода"
   ]
  },
  {
   "cell_type": "code",
   "execution_count": 3,
   "metadata": {
    "id": "FppbECao6VIz"
   },
   "outputs": [
    {
     "name": "stdout",
     "output_type": "stream",
     "text": [
      "True\n",
      "False\n"
     ]
    }
   ],
   "source": [
    "def OneSymbol(s):\n",
    "    count = 0\n",
    "    b = True\n",
    "    for i in s:\n",
    "        for g in s:\n",
    "            if i == g:\n",
    "                count += 1\n",
    "            if count == len(s) + 1:\n",
    "                b = False\n",
    "    if b != False:\n",
    "        return True\n",
    "    else:\n",
    "        return False\n",
    "\n",
    "def Test_One_symbol():\n",
    "    print(OneSymbol(\"abcd\"))#True\n",
    "    print(OneSymbol(\"bbcd\"))#False\n",
    "\n",
    "Test_One_symbol()"
   ]
  },
  {
   "cell_type": "markdown",
   "metadata": {
    "id": "udRiIK1cdt6E"
   },
   "source": [
    "# Задача 3\n",
    "Написать функцию, которая принимает положительное число и возвращает количество\n",
    "бит равных 1 в этом числе. Написать тесты для кода"
   ]
  },
  {
   "cell_type": "code",
   "execution_count": 5,
   "metadata": {
    "id": "6tkfDJRz6dp_"
   },
   "outputs": [
    {
     "name": "stdout",
     "output_type": "stream",
     "text": [
      "8\n",
      "4\n"
     ]
    }
   ],
   "source": [
    "def Bit_Checker(n):\n",
    "    number = bin(n)\n",
    "    count = 0\n",
    "    for i in number:\n",
    "        if i == \"1\":\n",
    "            count += 1\n",
    "    return count\n",
    "\n",
    "def Test_Bit_Checker():\n",
    "    print(Bit_Checker(255)) #8\n",
    "    print(Bit_Checker(23)) #4\n",
    "\n",
    "Test_Bit_Checker()"
   ]
  },
  {
   "cell_type": "markdown",
   "metadata": {
    "id": "26dDUz-Ae17N"
   },
   "source": [
    "# Задача 4\n",
    "Написать функцию, которая принимает положительное число. Функция должна вернуть то,\n",
    "сколько раз необходимо перемножать цифры числа или результат перемножения, чтобы\n",
    "получилось число состоящее из одной цифры.\n",
    "Например, для входного числа:\n",
    "· 39 функция должна вернуть 3, так как 3*9=27 => 2*7=14 => 1*4=4\n",
    "· 4 функция должна вернуть 0, так как число уже состоит из одной цифры\n",
    "· 999 функция должна вернуть 4, так как 9*9*9=729 => 7*2*9=126 => 1*2*6=12 =>\n",
    "1*2=2. Написать тесты для кода"
   ]
  },
  {
   "cell_type": "code",
   "execution_count": 6,
   "metadata": {
    "id": "BH1A_Mgi6i4G"
   },
   "outputs": [
    {
     "name": "stdout",
     "output_type": "stream",
     "text": [
      "3\n",
      "4\n"
     ]
    }
   ],
   "source": [
    "def magic(n):\n",
    "    result = 0\n",
    "    string = str(n)\n",
    "    count = 1\n",
    "    while(int(string) - 10 > 0):\n",
    "        for i in string:\n",
    "            count *= int(i)\n",
    "        string = str(count)\n",
    "        count = 1\n",
    "        result = result + 1\n",
    "    return result\n",
    "\n",
    "\n",
    "\n",
    "def Test_magic():\n",
    "    print(magic(39)) #3\n",
    "    print(magic(999)) #4\n",
    "\n",
    "Test_magic()"
   ]
  },
  {
   "cell_type": "markdown",
   "metadata": {
    "id": "0nS-kIa8g8vd"
   },
   "source": [
    "# Задача 5\n",
    "Написать функцию, которая принимает два целочисленных вектора одинаковой длины и\n",
    "возвращает среднеквадратическое отклонение двух векторов. Написать тесты для кода"
   ]
  },
  {
   "cell_type": "code",
   "execution_count": 8,
   "metadata": {
    "id": "8iphx4LM6xbx"
   },
   "outputs": [
    {
     "name": "stdout",
     "output_type": "stream",
     "text": [
      "1.0\n"
     ]
    }
   ],
   "source": [
    "def mse(first, second):\n",
    "    \n",
    "    assert len(first) == len(second), 'Not same vector size'\n",
    "    \n",
    "    vector_len = len(first)\n",
    "    sum = 0\n",
    "    mean = 0\n",
    "    \n",
    "    for i in range(vector_len):\n",
    "        sum += (first[i] - second[i])**2\n",
    "    \n",
    "    mean = sum / vector_len\n",
    "    result = mean ** 0.5\n",
    "    \n",
    "    return(result)\n",
    "\n",
    "def Test_mse():   \n",
    "    print(mse([1, 2, 3, 4], [2, 3, 4, 5])), \"Successfully\"\n",
    "    assert mse([1, 2, 3, 4], [2, 3, 4, 5]) == 1, \"Failed\"\n",
    "\n",
    "Test_mse()\n"
   ]
  },
  {
   "cell_type": "markdown",
   "metadata": {
    "id": "vpIPKL439zkw"
   },
   "source": [
    "# Задача 6\n",
    "Написать функцию, принимающая целое положительное число. Функция должна вернуть\n",
    "строку вида “(n1**p1)(n2**p2)…(nk**pk)” представляющая разложение числа на простые\n",
    "множители (если pi == 1, то выводить только ni).\n",
    "Например, для числа 86240 функция должна вернуть “(2**5)(5)(7**2)(11)”. Написать тесты для кода"
   ]
  },
  {
   "cell_type": "code",
   "execution_count": 12,
   "metadata": {
    "id": "pFebmcZk94Jw"
   },
   "outputs": [
    {
     "name": "stdout",
     "output_type": "stream",
     "text": [
      "Все тесты пройдены успешно!\n"
     ]
    }
   ],
   "source": [
    "def factory(number):\n",
    "    result = []\n",
    "    divisor = 2\n",
    "    \n",
    "    while divisor <= number:\n",
    "        power = 0\n",
    "        while number % divisor == 0:\n",
    "            number //= divisor\n",
    "            power += 1\n",
    "        \n",
    "        if power > 0:\n",
    "            if power == 1:\n",
    "                result.append(f\"({divisor})\")\n",
    "            else:\n",
    "                result.append(f\"({divisor}**{power})\")\n",
    "        \n",
    "        divisor += 1\n",
    "    \n",
    "    return ''.join(result)\n",
    "\n",
    "# Тесты\n",
    "def test_factory():\n",
    "    # Проверка на число 1 (разложение: \"\")\n",
    "    assert factory(1) == \"\"\n",
    "    \n",
    "    # Проверка на число 86240 (разложение: \"(2**5)(5)(7**2)(11)\")\n",
    "    assert factory(86240) == \"(2**5)(5)(7**2)(11)\"\n",
    "    \n",
    "    # Проверка на число 13 (простое число, разложение: \"(13)\")\n",
    "    assert factory(13) == \"(13)\"\n",
    "    \n",
    "    # Проверка на число 100 (разложение: \"(2**2)(5**2)\")\n",
    "    assert factory(100) == \"(2**2)(5**2)\"\n",
    "    \n",
    "    # Проверка на число 1024 (разложение: \"(2**10)\")\n",
    "    assert factory(1024) == \"(2**10)\"\n",
    "    \n",
    "    print(\"Все тесты пройдены успешно!\")\n",
    "\n",
    "# Запуск тестов\n",
    "test_factory()"
   ]
  },
  {
   "cell_type": "markdown",
   "metadata": {
    "id": "ps2s0BudX7A2"
   },
   "source": [
    "# Задача 7\n",
    "Написать функцию, принимающая целое число n, задающее количество кубиков. Функция\n",
    "должна определить, можно ли из данного кол-ва кубиков построить пирамиду, то есть\n",
    "можно ли представить число n как 1^2+2^2+3^2+…+k^2. Если можно, то функция должна\n",
    "вернуть k, иначе строку “It is impossible”. Написать тесты для кода"
   ]
  },
  {
   "cell_type": "code",
   "execution_count": 13,
   "metadata": {
    "id": "3YPjEXxhX_YT"
   },
   "outputs": [
    {
     "name": "stdout",
     "output_type": "stream",
     "text": [
      "Все тесты пройдены успешно!\n"
     ]
    }
   ],
   "source": [
    "def pyramid(n):\n",
    "    total = 0\n",
    "    k = 1\n",
    "\n",
    "    while total < n:\n",
    "        total += k ** 2\n",
    "        k += 1\n",
    "\n",
    "    if total == n:\n",
    "        return k - 1\n",
    "    else:\n",
    "        return \"It is impossible\"\n",
    "\n",
    "# Тесты\n",
    "def test_pyramid():\n",
    "    assert pyramid(1) == 1\n",
    "    assert pyramid(6) == \"It is impossible\"\n",
    "    assert pyramid(14) == 3\n",
    "    assert pyramid(30) == 4\n",
    "    assert pyramid(55) == 5\n",
    "\n",
    "    print(\"Все тесты пройдены успешно!\")\n",
    "\n",
    "test_pyramid()"
   ]
  },
  {
   "cell_type": "markdown",
   "metadata": {
    "id": "KeKgmIdAQMEJ"
   },
   "source": [
    "# Задача 8\n",
    "Функция принимает на вход положительное число и определяет является ли оно сбалансированным, т.е. сумма цифр до средних равна сумме цифр после. Средними в случае нечетного числа цифр считать одну цифру, в случае четного - две средних. Написать тесты для кода"
   ]
  },
  {
   "cell_type": "code",
   "execution_count": 14,
   "metadata": {
    "id": "gMAAqtqlQrZt"
   },
   "outputs": [
    {
     "name": "stdout",
     "output_type": "stream",
     "text": [
      "Все тесты пройдены успешно!\n"
     ]
    }
   ],
   "source": [
    "def balance(number):\n",
    "    num_str = str(number)\n",
    "    length = len(num_str)\n",
    "    \n",
    "    if length % 2 == 0:\n",
    "        middle1 = length // 2 - 1\n",
    "        middle2 = length // 2\n",
    "    else:\n",
    "        middle1 = middle2 = length // 2\n",
    "\n",
    "    sum_before_middle = sum(map(int, num_str[:middle1 + 1]))\n",
    "    sum_after_middle = sum(map(int, num_str[middle2:]))\n",
    "    \n",
    "    return sum_before_middle == sum_after_middle\n",
    "\n",
    "# Тесты\n",
    "def test_balance():\n",
    "    assert balance(121) == True\n",
    "    assert balance(12321) == True\n",
    "    assert balance(12345) == False\n",
    "    assert balance(123456) == False\n",
    "\n",
    "    print(\"Все тесты пройдены успешно!\")\n",
    "\n",
    "test_balance()"
   ]
  },
  {
   "cell_type": "code",
   "execution_count": null,
   "metadata": {},
   "outputs": [],
   "source": []
  }
 ],
 "metadata": {
  "colab": {
   "provenance": []
  },
  "kernelspec": {
   "display_name": "Python 3 (ipykernel)",
   "language": "python",
   "name": "python3"
  },
  "language_info": {
   "codemirror_mode": {
    "name": "ipython",
    "version": 3
   },
   "file_extension": ".py",
   "mimetype": "text/x-python",
   "name": "python",
   "nbconvert_exporter": "python",
   "pygments_lexer": "ipython3",
   "version": "3.11.5"
  }
 },
 "nbformat": 4,
 "nbformat_minor": 1
}
